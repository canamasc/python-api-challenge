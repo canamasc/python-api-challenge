{
 "cells": [
  {
   "cell_type": "code",
   "execution_count": 31,
   "id": "b64b970d",
   "metadata": {},
   "outputs": [],
   "source": [
    "#!pip install citipy\n",
    "import requests\n",
    "import os\n",
    "import matplotlib.pyplot as plt\n",
    "import time\n",
    "from pprint import pprint\n",
    "from citipy import citipy\n",
    "import random\n",
    "import pandas as pd"
   ]
  },
  {
   "cell_type": "code",
   "execution_count": 32,
   "id": "f5d7b682",
   "metadata": {},
   "outputs": [],
   "source": [
    "# Get 500 random coordinates for our cities\n",
    "# Some quick googling tells us that Latitudes range from -90 to 90, and longitudes range from -180 to 80.\n",
    "# https://machinelearningmastery.com/how-to-generate-random-numbers-in-python/\n",
    "\n",
    "# Seed allows us to get same list of cities every time\n",
    "seed(9)\n",
    "cities = []\n",
    "while len(cities) < 500:\n",
    "    lat = random.uniform(-90.0, 90.0)\n",
    "    lon = random.uniform(-180.0, 80.0)\n",
    "    city = citipy.nearest_city(lat, lon)\n",
    "    city_name = city.city_name\n",
    "    # Make sure we have no repeats\n",
    "    if city_name not in cities:\n",
    "        cities.append(city_name)\n",
    "cities_final = cities.copy()"
   ]
  },
  {
   "cell_type": "code",
   "execution_count": 33,
   "id": "8121a9a7",
   "metadata": {},
   "outputs": [
    {
     "data": {
      "text/plain": [
       "500"
      ]
     },
     "execution_count": 33,
     "metadata": {},
     "output_type": "execute_result"
    }
   ],
   "source": [
    "citi_df = pd.DataFrame({\"Cities\" : cities_final})\n",
    "# Ensure we have 500 unique cities\n",
    "citi_df['Cities'].nunique()"
   ]
  },
  {
   "cell_type": "code",
   "execution_count": null,
   "id": "a85949da",
   "metadata": {},
   "outputs": [],
   "source": []
  }
 ],
 "metadata": {
  "kernelspec": {
   "display_name": "Python 3",
   "language": "python",
   "name": "python3"
  },
  "language_info": {
   "codemirror_mode": {
    "name": "ipython",
    "version": 3
   },
   "file_extension": ".py",
   "mimetype": "text/x-python",
   "name": "python",
   "nbconvert_exporter": "python",
   "pygments_lexer": "ipython3",
   "version": "3.8.8"
  }
 },
 "nbformat": 4,
 "nbformat_minor": 5
}
